{
  "cells": [
    {
      "cell_type": "code",
      "execution_count": 14,
      "metadata": {
        "colab": {
          "base_uri": "https://localhost:8080/"
        },
        "id": "dqXqmlacXtd7",
        "outputId": "d85b85f3-7bc4-4b1d-cbfc-2071587c0bcf"
      },
      "outputs": [
        {
          "name": "stdout",
          "output_type": "stream",
          "text": [
            "75.0cm²\n"
          ]
        }
      ],
      "source": [
        "# 上辺：10cm・下辺：20cm・高さ：5cm\n",
        "top_side = 10\n",
        "bottom_side =20\n",
        "height = 5\n",
        "\n",
        "# 公式：台形の面積　= (上辺＋下辺) × 高さ ÷ 2\n",
        "area_trapezium = (top_side + bottom_side) * height / 2\n",
        "\n",
        "print(str(area_trapezium) + \"cm²\")"
      ]
    }
  ],
  "metadata": {
    "colab": {
      "provenance": []
    },
    "kernelspec": {
      "display_name": "Python 3",
      "name": "python3"
    },
    "language_info": {
      "name": "python"
    }
  },
  "nbformat": 4,
  "nbformat_minor": 0
}
