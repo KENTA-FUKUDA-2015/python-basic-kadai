{
  "cells": [
    {
      "cell_type": "code",
      "execution_count": 1,
      "metadata": {
        "colab": {
          "base_uri": "https://localhost:8080/"
        },
        "id": "dqXqmlacXtd7",
        "outputId": "a84a16c1-88f3-45ba-a959-c3ed0066b738"
      },
      "outputs": [
        {
          "name": "stdout",
          "output_type": "stream",
          "text": [
            "75.0cm²\n"
          ]
        }
      ],
      "source": [
        "# 上辺：10cm・下辺：20cm・高さ：5cm\n",
        "top_side = 10\n",
        "bottom_side =20\n",
        "height = 5\n",
        "\n",
        "# 公式：台形の面積　= (上辺＋下辺) × 高さ ÷ 2\n",
        "area_trapezium = (top_side + bottom_side) * height / 2\n",
        "\n",
        "print(f\"{area_trapezium}cm²\")"
      ]
    }
  ],
  "metadata": {
    "colab": {
      "provenance": []
    },
    "kernelspec": {
      "display_name": "Python 3",
      "name": "python3"
    },
    "language_info": {
      "name": "python"
    }
  },
  "nbformat": 4,
  "nbformat_minor": 0
}
