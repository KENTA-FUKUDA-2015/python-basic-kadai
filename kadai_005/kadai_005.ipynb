{
  "nbformat": 4,
  "nbformat_minor": 0,
  "metadata": {
    "colab": {
      "provenance": []
    },
    "kernelspec": {
      "name": "python3",
      "display_name": "Python 3"
    },
    "language_info": {
      "name": "python"
    }
  },
  "cells": [
    {
      "cell_type": "code",
      "execution_count": 6,
      "metadata": {
        "colab": {
          "base_uri": "https://localhost:8080/"
        },
        "id": "dqXqmlacXtd7",
        "outputId": "bca6b023-2249-4f8e-e6ce-6af94c6eaecc"
      },
      "outputs": [
        {
          "output_type": "stream",
          "name": "stdout",
          "text": [
            "75.0㎠\n"
          ]
        }
      ],
      "source": [
        "# 上辺：10cm・下辺：20cm・高さ：5cm\n",
        "top_side = 10\n",
        "bottom_side =20\n",
        "height = 5\n",
        "\n",
        "# 公式：台形の面積　= (上辺＋下辺) × 高さ ÷ 2\n",
        "area_trapezium = (top_side + bottom_side) * height / 2\n",
        "\n",
        "print(f\"{area_trapezium}㎠\")"
      ]
    }
  ]
}