{
  "nbformat": 4,
  "nbformat_minor": 0,
  "metadata": {
    "colab": {
      "provenance": []
    },
    "kernelspec": {
      "name": "python3",
      "display_name": "Python 3"
    },
    "language_info": {
      "name": "python"
    }
  },
  "cells": [
    {
      "cell_type": "code",
      "execution_count": 118,
      "metadata": {
        "colab": {
          "base_uri": "https://localhost:8080/"
        },
        "id": "YrVX4XbW617E",
        "outputId": "3584b9e3-d329-4725-a443-5c2092d9e324"
      },
      "outputs": [
        {
          "output_type": "stream",
          "name": "stdout",
          "text": [
            "FizzBuzz\n"
          ]
        }
      ],
      "source": [
        "# ランダムな整数を利用するために、randomモジュールをインポート\n",
        "import random\n",
        "\n",
        "# 変数varに0～15までのランダム整数を代入する\n",
        "val = random.randint(0,15)\n",
        "\n",
        "'''\n",
        "・変数valが3の倍数の場合は「Fizz」を出力\n",
        "・5の倍数の場合は「Buzz」を出力\n",
        "・3の倍数と5の倍数の両方に該当する場合は「FizzBuzz」を出力\n",
        "・上記のどの場合にも該当しない場合は、変数valの値を出力\n",
        "'''\n",
        "if 0 < val and val % 3 == 0 and val % 5 == 0:\n",
        "    print(\"FizzBuzz\")\n",
        "elif 0 < val and val % 3 == 0:\n",
        "    print(\"Fizz\")\n",
        "elif 0 < val and val % 5 == 0:\n",
        "    print(\"Buzz\")\n",
        "else:\n",
        "    print(val)"
      ]
    },
    {
      "cell_type": "markdown",
      "source": [],
      "metadata": {
        "id": "pPz3WIUhHx2_"
      }
    }
  ]
}