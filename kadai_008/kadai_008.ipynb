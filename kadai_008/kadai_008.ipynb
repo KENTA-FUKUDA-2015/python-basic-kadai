{
  "cells": [
    {
      "cell_type": "code",
      "execution_count": 128,
      "metadata": {
        "colab": {
          "base_uri": "https://localhost:8080/"
        },
        "id": "YrVX4XbW617E",
        "outputId": "52080637-5ee1-4cbe-86c1-56f7a21317bc"
      },
      "outputs": [
        {
          "name": "stdout",
          "output_type": "stream",
          "text": [
            "FizzBuzz\n"
          ]
        }
      ],
      "source": [
        "# ランダムな整数を利用するために、randomモジュールをインポート\n",
        "import random\n",
        "\n",
        "# 変数varに0～15までのランダム整数を代入する\n",
        "var = random.randint(0,15)\n",
        "\n",
        "'''\n",
        "・変数varが3の倍数の場合は「Fizz」を出力\n",
        "・5の倍数の場合は「Buzz」を出力\n",
        "・3の倍数と5の倍数の両方に該当する場合は「FizzBuzz」を出力\n",
        "・上記のどの場合にも該当しない場合は、変数varの値を出力\n",
        "'''\n",
        "if 0 < var and var % 3 == 0 and var % 5 == 0:\n",
        "    print(\"FizzBuzz\")\n",
        "elif 0 < var and var % 3 == 0:\n",
        "    print(\"Fizz\")\n",
        "elif 0 < var and var % 5 == 0:\n",
        "    print(\"Buzz\")\n",
        "else:\n",
        "    print(var)"
      ]
    },
    {
      "cell_type": "markdown",
      "metadata": {
        "id": "pPz3WIUhHx2_"
      },
      "source": []
    }
  ],
  "metadata": {
    "colab": {
      "provenance": []
    },
    "kernelspec": {
      "display_name": "Python 3",
      "name": "python3"
    },
    "language_info": {
      "name": "python"
    }
  },
  "nbformat": 4,
  "nbformat_minor": 0
}
