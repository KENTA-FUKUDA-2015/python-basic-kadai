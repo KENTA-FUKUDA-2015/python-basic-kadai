{
  "cells": [
    {
      "cell_type": "code",
      "execution_count": 6,
      "metadata": {
        "colab": {
          "base_uri": "https://localhost:8080/"
        },
        "id": "TGRNHAidErhT",
        "outputId": "e19b3667-3eee-49eb-8bcd-f184c0bbb29f"
      },
      "outputs": [
        {
          "name": "stdout",
          "output_type": "stream",
          "text": [
            "水\n",
            "金\n",
            "地\n",
            "火\n",
            "木\n",
            "土\n",
            "天\n",
            "海\n",
            "冥\n",
            "水\n",
            "金\n",
            "地\n",
            "火\n",
            "木\n",
            "土\n",
            "天\n",
            "海\n",
            "冥\n"
          ]
        }
      ],
      "source": [
        "# 出力したいリストを作成\n",
        "array = [\"水\", \"金\", \"地\", \"火\", \"木\", \"土\", \"天\", \"海\", \"冥\"]\n",
        "\n",
        " # リストarrayの要素を1つずつ順番に出力する\n",
        "for solar_system in array:\n",
        "    print(solar_system)\n",
        "\n",
        "\n",
        "# カウンタ変数を用意する\n",
        "i = 0\n",
        "\n",
        "# カウンタ変数が2になるまでfor文を繰り返し実行する\n",
        "while i < 1:\n",
        "\n",
        "    # リストarrayの要素を1つずつ順番に出力する\n",
        "    for solar_system in array:\n",
        "        print(solar_system)\n",
        "\n",
        "    # カウンタ変数の値を1増やす\n",
        "    i = i + 1"
      ]
    }
  ],
  "metadata": {
    "colab": {
      "provenance": []
    },
    "kernelspec": {
      "display_name": "Python 3",
      "name": "python3"
    },
    "language_info": {
      "name": "python"
    }
  },
  "nbformat": 4,
  "nbformat_minor": 0
}
