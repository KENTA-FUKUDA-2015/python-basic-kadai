{
  "cells": [
    {
      "cell_type": "code",
      "execution_count": null,
      "metadata": {
        "id": "3oyrwPV1hjX3"
      },
      "outputs": [],
      "source": [
        "array = [\"水\",\"金\",\"地\",\"火\",\"木\",\"土\",\"天\",\"海\",\"冥\"]"
      ]
    },
    {
      "cell_type": "code",
      "execution_count": 12,
      "metadata": {
        "colab": {
          "base_uri": "https://localhost:8080/"
        },
        "id": "TGRNHAidErhT",
        "outputId": "ad5e0016-55fd-4e7d-8250-d3bb23be962a"
      },
      "outputs": [
        {
          "name": "stdout",
          "output_type": "stream",
          "text": [
            "水\n",
            "金\n",
            "地\n",
            "火\n",
            "木\n",
            "土\n",
            "天\n",
            "海\n",
            "冥\n",
            "水\n",
            "金\n",
            "地\n",
            "火\n",
            "木\n",
            "土\n",
            "天\n",
            "海\n",
            "冥\n"
          ]
        }
      ],
      "source": [
        "# 出力したいリストを作成\n",
        "array = [\"水\", \"金\", \"地\", \"火\", \"木\", \"土\", \"天\", \"海\", \"冥\"]\n",
        "\n",
        " # リストarrayの要素を1つずつ順番に出力する\n",
        "for solar_system in array:\n",
        "    print(solar_system)\n",
        "\n",
        "\n",
        "# カウンタ変数を用意する\n",
        "i = 0\n",
        "\n",
        "# カウンタ変数が8になるまでfor文を繰り返し実行する\n",
        "while i <= 8:\n",
        "\n",
        "    # カウンタ変数が8になるまで先頭から要素を取り出し続ける\n",
        "    print(array[i])\n",
        "\n",
        "    # カウンタ変数の値を1増やす\n",
        "    i = i + 1"
      ]
    }
  ],
  "metadata": {
    "colab": {
      "provenance": []
    },
    "kernelspec": {
      "display_name": "Python 3",
      "name": "python3"
    },
    "language_info": {
      "name": "python"
    }
  },
  "nbformat": 4,
  "nbformat_minor": 0
}
