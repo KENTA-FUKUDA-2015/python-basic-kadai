{
  "nbformat": 4,
  "nbformat_minor": 0,
  "metadata": {
    "colab": {
      "provenance": []
    },
    "kernelspec": {
      "name": "python3",
      "display_name": "Python 3"
    },
    "language_info": {
      "name": "python"
    }
  },
  "cells": [
    {
      "cell_type": "code",
      "execution_count": 2,
      "metadata": {
        "colab": {
          "base_uri": "https://localhost:8080/"
        },
        "id": "qeCNIfRpwIJS",
        "outputId": "b053f75b-55c7-4da9-cd7e-b6022245206e"
      },
      "outputs": [
        {
          "output_type": "stream",
          "name": "stdout",
          "text": [
            "11.0\n"
          ]
        }
      ],
      "source": [
        "def caluculate_total(price, tax_rate):\n",
        "    return price + (price * (tax_rate / 100))\n",
        "\n",
        "total = caluculate_total(110, 10)\n",
        "\n",
        "def caluculate_tax(price):\n",
        "    tax = total - price\n",
        "    print(tax)\n",
        "\n",
        "caluculate_tax(110)"
      ]
    }
  ]
}