{
  "nbformat": 4,
  "nbformat_minor": 0,
  "metadata": {
    "colab": {
      "provenance": []
    },
    "kernelspec": {
      "name": "python3",
      "display_name": "Python 3"
    },
    "language_info": {
      "name": "python"
    }
  },
  "cells": [
    {
      "cell_type": "code",
      "execution_count": 52,
      "metadata": {
        "id": "HZbV51P39uW7",
        "colab": {
          "base_uri": "https://localhost:8080/"
        },
        "outputId": "3773cca2-1f3c-4277-a756-93ccc3e4c7ba"
      },
      "outputs": [
        {
          "output_type": "stream",
          "name": "stdout",
          "text": [
            "大輔さんは大人じゃないです。\n",
            "健太さんは大人です。\n",
            "誠さんは大人です。\n",
            "裕樹さんは大人じゃないです。\n",
            "拓也さんは大人です。\n",
            "愛さんは大人です。\n",
            "麻衣さんは大人じゃないです。\n",
            "恵さんは大人です。\n",
            "裕子さんは大人です。\n",
            "麻美さんは大人じゃないです。\n"
          ]
        }
      ],
      "source": [
        "# Humanクラスを作成\n",
        "class Human:\n",
        "    # コンストラクタを定義する\n",
        "    def __init__(self, name, age):\n",
        "        self.name = name\n",
        "        self.age = age\n",
        "\n",
        "    # メソッドを定義する\n",
        "    def check_adult(self):\n",
        "        if self.age >= 20:\n",
        "            print(f\"{self.name}さんは大人です。\")\n",
        "        else:\n",
        "            print(f\"{self.name}さんは大人じゃないです。\")\n",
        "\n",
        "# インスタンス化する\n",
        "human1 = Human(\"大輔\", 17)\n",
        "human2 = Human(\"健太\", 40)\n",
        "human3 = Human(\"誠\", 35)\n",
        "human4 = Human(\"裕樹\", 8)\n",
        "human5 = Human(\"拓也\",43)\n",
        "human6 = Human(\"愛\", 22)\n",
        "human7 = Human(\"麻衣\", 14)\n",
        "human8 = Human(\"恵\", 99)\n",
        "human9 = Human(\"裕子\", 42)\n",
        "human10 = Human(\"麻美\", 5)\n",
        "\n",
        "# インスタンスをリストに追加する\n",
        "human_names = [human1, human2, human3, human4, human5, human6, human7, human8, human9, human10]\n",
        "\n",
        "# リストの要素数分だけcheck_adultメソッドを呼び出す\n",
        "for human_name in human_names:\n",
        "    human_name.check_adult()"
      ]
    }
  ]
}